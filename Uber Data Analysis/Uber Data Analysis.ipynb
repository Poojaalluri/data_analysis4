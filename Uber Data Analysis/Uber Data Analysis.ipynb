{
 "cells": [
  {
   "cell_type": "markdown",
   "id": "1f8d575c-7578-4186-aad3-091fb64ea8ca",
   "metadata": {},
   "source": [
    "# Uber Data Analysis"
   ]
  },
  {
   "cell_type": "code",
   "execution_count": 123,
   "id": "841531f6-03f9-4734-82d5-eaea40bb8e0a",
   "metadata": {},
   "outputs": [],
   "source": [
    "import pandas as pd\n",
    "import numpy as np\n",
    "import matplotlib.pyplot as plt\n",
    "import seaborn as sns"
   ]
  },
  {
   "cell_type": "code",
   "execution_count": 124,
   "id": "edaedf1d-7326-4dea-9d9b-d8eb32b87f70",
   "metadata": {},
   "outputs": [],
   "source": [
    "import warnings\n",
    "warnings.filterwarnings(\"ignore\")"
   ]
  },
  {
   "cell_type": "code",
   "execution_count": 125,
   "id": "89342e56-21c2-4b75-968a-0f62da761187",
   "metadata": {},
   "outputs": [],
   "source": [
    "df=pd.read_csv('UberDataset.csv')"
   ]
  },
  {
   "cell_type": "code",
   "execution_count": 126,
   "id": "b149769b-386f-4b80-8e3c-263a863b925f",
   "metadata": {},
   "outputs": [
    {
     "data": {
      "text/html": [
       "<div>\n",
       "<style scoped>\n",
       "    .dataframe tbody tr th:only-of-type {\n",
       "        vertical-align: middle;\n",
       "    }\n",
       "\n",
       "    .dataframe tbody tr th {\n",
       "        vertical-align: top;\n",
       "    }\n",
       "\n",
       "    .dataframe thead th {\n",
       "        text-align: right;\n",
       "    }\n",
       "</style>\n",
       "<table border=\"1\" class=\"dataframe\">\n",
       "  <thead>\n",
       "    <tr style=\"text-align: right;\">\n",
       "      <th></th>\n",
       "      <th>START_DATE</th>\n",
       "      <th>END_DATE</th>\n",
       "      <th>CATEGORY</th>\n",
       "      <th>START</th>\n",
       "      <th>STOP</th>\n",
       "      <th>MILES</th>\n",
       "      <th>PURPOSE</th>\n",
       "    </tr>\n",
       "  </thead>\n",
       "  <tbody>\n",
       "    <tr>\n",
       "      <th>0</th>\n",
       "      <td>01-01-2016 21:11</td>\n",
       "      <td>01-01-2016 21:17</td>\n",
       "      <td>Business</td>\n",
       "      <td>Fort Pierce</td>\n",
       "      <td>Fort Pierce</td>\n",
       "      <td>5.1</td>\n",
       "      <td>Meal/Entertain</td>\n",
       "    </tr>\n",
       "    <tr>\n",
       "      <th>1</th>\n",
       "      <td>01-02-2016 01:25</td>\n",
       "      <td>01-02-2016 01:37</td>\n",
       "      <td>Business</td>\n",
       "      <td>Fort Pierce</td>\n",
       "      <td>Fort Pierce</td>\n",
       "      <td>5.0</td>\n",
       "      <td>NaN</td>\n",
       "    </tr>\n",
       "    <tr>\n",
       "      <th>2</th>\n",
       "      <td>01-02-2016 20:25</td>\n",
       "      <td>01-02-2016 20:38</td>\n",
       "      <td>Business</td>\n",
       "      <td>Fort Pierce</td>\n",
       "      <td>Fort Pierce</td>\n",
       "      <td>4.8</td>\n",
       "      <td>Errand/Supplies</td>\n",
       "    </tr>\n",
       "    <tr>\n",
       "      <th>3</th>\n",
       "      <td>01-05-2016 17:31</td>\n",
       "      <td>01-05-2016 17:45</td>\n",
       "      <td>Business</td>\n",
       "      <td>Fort Pierce</td>\n",
       "      <td>Fort Pierce</td>\n",
       "      <td>4.7</td>\n",
       "      <td>Meeting</td>\n",
       "    </tr>\n",
       "    <tr>\n",
       "      <th>4</th>\n",
       "      <td>01-06-2016 14:42</td>\n",
       "      <td>01-06-2016 15:49</td>\n",
       "      <td>Business</td>\n",
       "      <td>Fort Pierce</td>\n",
       "      <td>West Palm Beach</td>\n",
       "      <td>63.7</td>\n",
       "      <td>Customer Visit</td>\n",
       "    </tr>\n",
       "  </tbody>\n",
       "</table>\n",
       "</div>"
      ],
      "text/plain": [
       "         START_DATE          END_DATE  CATEGORY        START             STOP  \\\n",
       "0  01-01-2016 21:11  01-01-2016 21:17  Business  Fort Pierce      Fort Pierce   \n",
       "1  01-02-2016 01:25  01-02-2016 01:37  Business  Fort Pierce      Fort Pierce   \n",
       "2  01-02-2016 20:25  01-02-2016 20:38  Business  Fort Pierce      Fort Pierce   \n",
       "3  01-05-2016 17:31  01-05-2016 17:45  Business  Fort Pierce      Fort Pierce   \n",
       "4  01-06-2016 14:42  01-06-2016 15:49  Business  Fort Pierce  West Palm Beach   \n",
       "\n",
       "   MILES          PURPOSE  \n",
       "0    5.1   Meal/Entertain  \n",
       "1    5.0              NaN  \n",
       "2    4.8  Errand/Supplies  \n",
       "3    4.7          Meeting  \n",
       "4   63.7   Customer Visit  "
      ]
     },
     "execution_count": 126,
     "metadata": {},
     "output_type": "execute_result"
    }
   ],
   "source": [
    "df.head()"
   ]
  },
  {
   "cell_type": "code",
   "execution_count": 127,
   "id": "94c2a7f3-a201-4671-a0bb-bcf33d20cacf",
   "metadata": {},
   "outputs": [
    {
     "data": {
      "text/plain": [
       "(1156, 7)"
      ]
     },
     "execution_count": 127,
     "metadata": {},
     "output_type": "execute_result"
    }
   ],
   "source": [
    "df.shape"
   ]
  },
  {
   "cell_type": "code",
   "execution_count": 128,
   "id": "53639530-4b7c-4c2e-80c4-422c709bbaa6",
   "metadata": {},
   "outputs": [
    {
     "name": "stdout",
     "output_type": "stream",
     "text": [
      "<class 'pandas.core.frame.DataFrame'>\n",
      "RangeIndex: 1156 entries, 0 to 1155\n",
      "Data columns (total 7 columns):\n",
      " #   Column      Non-Null Count  Dtype  \n",
      "---  ------      --------------  -----  \n",
      " 0   START_DATE  1156 non-null   object \n",
      " 1   END_DATE    1155 non-null   object \n",
      " 2   CATEGORY    1155 non-null   object \n",
      " 3   START       1155 non-null   object \n",
      " 4   STOP        1155 non-null   object \n",
      " 5   MILES       1156 non-null   float64\n",
      " 6   PURPOSE     653 non-null    object \n",
      "dtypes: float64(1), object(6)\n",
      "memory usage: 63.3+ KB\n"
     ]
    }
   ],
   "source": [
    "df.info()"
   ]
  },
  {
   "cell_type": "markdown",
   "id": "fc70e3c2-7b2d-407f-a5f1-db55924fe207",
   "metadata": {},
   "source": [
    "## Data Preprocessing"
   ]
  },
  {
   "cell_type": "code",
   "execution_count": 129,
   "id": "95a1cf55-f909-42f4-8980-d0d1c72c56bc",
   "metadata": {},
   "outputs": [],
   "source": [
    "df['PURPOSE'].fillna('Not Available', inplace= True)"
   ]
  },
  {
   "cell_type": "code",
   "execution_count": 130,
   "id": "6abe4375-8eb1-49c8-acec-3a3432cb69f3",
   "metadata": {},
   "outputs": [
    {
     "name": "stdout",
     "output_type": "stream",
     "text": [
      "<class 'pandas.core.frame.DataFrame'>\n",
      "RangeIndex: 1156 entries, 0 to 1155\n",
      "Data columns (total 7 columns):\n",
      " #   Column      Non-Null Count  Dtype  \n",
      "---  ------      --------------  -----  \n",
      " 0   START_DATE  1156 non-null   object \n",
      " 1   END_DATE    1155 non-null   object \n",
      " 2   CATEGORY    1155 non-null   object \n",
      " 3   START       1155 non-null   object \n",
      " 4   STOP        1155 non-null   object \n",
      " 5   MILES       1156 non-null   float64\n",
      " 6   PURPOSE     1156 non-null   object \n",
      "dtypes: float64(1), object(6)\n",
      "memory usage: 63.3+ KB\n"
     ]
    }
   ],
   "source": [
    "df.info()"
   ]
  },
  {
   "cell_type": "code",
   "execution_count": 131,
   "id": "998053e7-ba63-41a0-b60a-de7f25a09d4d",
   "metadata": {},
   "outputs": [],
   "source": [
    "df['START_DATE']= pd.to_datetime(df['START_DATE'], errors= 'coerce')\n",
    "\n",
    "df['END_DATE']= pd.to_datetime(df['END_DATE'], errors= 'coerce')"
   ]
  },
  {
   "cell_type": "code",
   "execution_count": 132,
   "id": "3e2aee7f-159b-4c64-8efc-644068d85154",
   "metadata": {},
   "outputs": [
    {
     "name": "stdout",
     "output_type": "stream",
     "text": [
      "<class 'pandas.core.frame.DataFrame'>\n",
      "RangeIndex: 1156 entries, 0 to 1155\n",
      "Data columns (total 7 columns):\n",
      " #   Column      Non-Null Count  Dtype         \n",
      "---  ------      --------------  -----         \n",
      " 0   START_DATE  421 non-null    datetime64[ns]\n",
      " 1   END_DATE    420 non-null    datetime64[ns]\n",
      " 2   CATEGORY    1155 non-null   object        \n",
      " 3   START       1155 non-null   object        \n",
      " 4   STOP        1155 non-null   object        \n",
      " 5   MILES       1156 non-null   float64       \n",
      " 6   PURPOSE     1156 non-null   object        \n",
      "dtypes: datetime64[ns](2), float64(1), object(4)\n",
      "memory usage: 63.3+ KB\n"
     ]
    }
   ],
   "source": [
    "df.info()"
   ]
  },
  {
   "cell_type": "code",
   "execution_count": 133,
   "id": "55437c16-5bf8-4553-b1ee-f5dbc456d340",
   "metadata": {},
   "outputs": [],
   "source": [
    "from datetime import datetime\n",
    "\n",
    "df['DATE']= pd.DatetimeIndex(df['START_DATE']).date\n",
    "df['TIME']= pd.DatetimeIndex(df['START_DATE']).hour"
   ]
  },
  {
   "cell_type": "code",
   "execution_count": 134,
   "id": "d6824aa3-d82f-4c9f-bbcc-fc29c7b5a11d",
   "metadata": {},
   "outputs": [
    {
     "data": {
      "text/html": [
       "<div>\n",
       "<style scoped>\n",
       "    .dataframe tbody tr th:only-of-type {\n",
       "        vertical-align: middle;\n",
       "    }\n",
       "\n",
       "    .dataframe tbody tr th {\n",
       "        vertical-align: top;\n",
       "    }\n",
       "\n",
       "    .dataframe thead th {\n",
       "        text-align: right;\n",
       "    }\n",
       "</style>\n",
       "<table border=\"1\" class=\"dataframe\">\n",
       "  <thead>\n",
       "    <tr style=\"text-align: right;\">\n",
       "      <th></th>\n",
       "      <th>START_DATE</th>\n",
       "      <th>END_DATE</th>\n",
       "      <th>CATEGORY</th>\n",
       "      <th>START</th>\n",
       "      <th>STOP</th>\n",
       "      <th>MILES</th>\n",
       "      <th>PURPOSE</th>\n",
       "      <th>DATE</th>\n",
       "      <th>TIME</th>\n",
       "    </tr>\n",
       "  </thead>\n",
       "  <tbody>\n",
       "    <tr>\n",
       "      <th>0</th>\n",
       "      <td>2016-01-01 21:11:00</td>\n",
       "      <td>2016-01-01 21:17:00</td>\n",
       "      <td>Business</td>\n",
       "      <td>Fort Pierce</td>\n",
       "      <td>Fort Pierce</td>\n",
       "      <td>5.1</td>\n",
       "      <td>Meal/Entertain</td>\n",
       "      <td>2016-01-01</td>\n",
       "      <td>21.0</td>\n",
       "    </tr>\n",
       "    <tr>\n",
       "      <th>1</th>\n",
       "      <td>2016-01-02 01:25:00</td>\n",
       "      <td>2016-01-02 01:37:00</td>\n",
       "      <td>Business</td>\n",
       "      <td>Fort Pierce</td>\n",
       "      <td>Fort Pierce</td>\n",
       "      <td>5.0</td>\n",
       "      <td>Not Available</td>\n",
       "      <td>2016-01-02</td>\n",
       "      <td>1.0</td>\n",
       "    </tr>\n",
       "    <tr>\n",
       "      <th>2</th>\n",
       "      <td>2016-01-02 20:25:00</td>\n",
       "      <td>2016-01-02 20:38:00</td>\n",
       "      <td>Business</td>\n",
       "      <td>Fort Pierce</td>\n",
       "      <td>Fort Pierce</td>\n",
       "      <td>4.8</td>\n",
       "      <td>Errand/Supplies</td>\n",
       "      <td>2016-01-02</td>\n",
       "      <td>20.0</td>\n",
       "    </tr>\n",
       "    <tr>\n",
       "      <th>3</th>\n",
       "      <td>2016-01-05 17:31:00</td>\n",
       "      <td>2016-01-05 17:45:00</td>\n",
       "      <td>Business</td>\n",
       "      <td>Fort Pierce</td>\n",
       "      <td>Fort Pierce</td>\n",
       "      <td>4.7</td>\n",
       "      <td>Meeting</td>\n",
       "      <td>2016-01-05</td>\n",
       "      <td>17.0</td>\n",
       "    </tr>\n",
       "    <tr>\n",
       "      <th>4</th>\n",
       "      <td>2016-01-06 14:42:00</td>\n",
       "      <td>2016-01-06 15:49:00</td>\n",
       "      <td>Business</td>\n",
       "      <td>Fort Pierce</td>\n",
       "      <td>West Palm Beach</td>\n",
       "      <td>63.7</td>\n",
       "      <td>Customer Visit</td>\n",
       "      <td>2016-01-06</td>\n",
       "      <td>14.0</td>\n",
       "    </tr>\n",
       "  </tbody>\n",
       "</table>\n",
       "</div>"
      ],
      "text/plain": [
       "           START_DATE            END_DATE  CATEGORY        START  \\\n",
       "0 2016-01-01 21:11:00 2016-01-01 21:17:00  Business  Fort Pierce   \n",
       "1 2016-01-02 01:25:00 2016-01-02 01:37:00  Business  Fort Pierce   \n",
       "2 2016-01-02 20:25:00 2016-01-02 20:38:00  Business  Fort Pierce   \n",
       "3 2016-01-05 17:31:00 2016-01-05 17:45:00  Business  Fort Pierce   \n",
       "4 2016-01-06 14:42:00 2016-01-06 15:49:00  Business  Fort Pierce   \n",
       "\n",
       "              STOP  MILES          PURPOSE        DATE  TIME  \n",
       "0      Fort Pierce    5.1   Meal/Entertain  2016-01-01  21.0  \n",
       "1      Fort Pierce    5.0    Not Available  2016-01-02   1.0  \n",
       "2      Fort Pierce    4.8  Errand/Supplies  2016-01-02  20.0  \n",
       "3      Fort Pierce    4.7          Meeting  2016-01-05  17.0  \n",
       "4  West Palm Beach   63.7   Customer Visit  2016-01-06  14.0  "
      ]
     },
     "execution_count": 134,
     "metadata": {},
     "output_type": "execute_result"
    }
   ],
   "source": [
    "df.head()"
   ]
  },
  {
   "cell_type": "code",
   "execution_count": 135,
   "id": "b5134506-6c48-4ef4-9d7e-ebb84fced566",
   "metadata": {},
   "outputs": [],
   "source": [
    "df['DAY-NIGHT']= pd.cut(x=df['TIME'], bins= [0,10,15,19,24], labels= ['Morning', 'Afternoon', 'Evening', 'Night'])"
   ]
  },
  {
   "cell_type": "code",
   "execution_count": 136,
   "id": "5f561b28-7fd6-46ac-bb77-876072985ed8",
   "metadata": {},
   "outputs": [
    {
     "data": {
      "text/html": [
       "<div>\n",
       "<style scoped>\n",
       "    .dataframe tbody tr th:only-of-type {\n",
       "        vertical-align: middle;\n",
       "    }\n",
       "\n",
       "    .dataframe tbody tr th {\n",
       "        vertical-align: top;\n",
       "    }\n",
       "\n",
       "    .dataframe thead th {\n",
       "        text-align: right;\n",
       "    }\n",
       "</style>\n",
       "<table border=\"1\" class=\"dataframe\">\n",
       "  <thead>\n",
       "    <tr style=\"text-align: right;\">\n",
       "      <th></th>\n",
       "      <th>START_DATE</th>\n",
       "      <th>END_DATE</th>\n",
       "      <th>CATEGORY</th>\n",
       "      <th>START</th>\n",
       "      <th>STOP</th>\n",
       "      <th>MILES</th>\n",
       "      <th>PURPOSE</th>\n",
       "      <th>DATE</th>\n",
       "      <th>TIME</th>\n",
       "      <th>DAY-NIGHT</th>\n",
       "    </tr>\n",
       "  </thead>\n",
       "  <tbody>\n",
       "    <tr>\n",
       "      <th>0</th>\n",
       "      <td>2016-01-01 21:11:00</td>\n",
       "      <td>2016-01-01 21:17:00</td>\n",
       "      <td>Business</td>\n",
       "      <td>Fort Pierce</td>\n",
       "      <td>Fort Pierce</td>\n",
       "      <td>5.1</td>\n",
       "      <td>Meal/Entertain</td>\n",
       "      <td>2016-01-01</td>\n",
       "      <td>21.0</td>\n",
       "      <td>Night</td>\n",
       "    </tr>\n",
       "    <tr>\n",
       "      <th>1</th>\n",
       "      <td>2016-01-02 01:25:00</td>\n",
       "      <td>2016-01-02 01:37:00</td>\n",
       "      <td>Business</td>\n",
       "      <td>Fort Pierce</td>\n",
       "      <td>Fort Pierce</td>\n",
       "      <td>5.0</td>\n",
       "      <td>Not Available</td>\n",
       "      <td>2016-01-02</td>\n",
       "      <td>1.0</td>\n",
       "      <td>Morning</td>\n",
       "    </tr>\n",
       "    <tr>\n",
       "      <th>2</th>\n",
       "      <td>2016-01-02 20:25:00</td>\n",
       "      <td>2016-01-02 20:38:00</td>\n",
       "      <td>Business</td>\n",
       "      <td>Fort Pierce</td>\n",
       "      <td>Fort Pierce</td>\n",
       "      <td>4.8</td>\n",
       "      <td>Errand/Supplies</td>\n",
       "      <td>2016-01-02</td>\n",
       "      <td>20.0</td>\n",
       "      <td>Night</td>\n",
       "    </tr>\n",
       "    <tr>\n",
       "      <th>3</th>\n",
       "      <td>2016-01-05 17:31:00</td>\n",
       "      <td>2016-01-05 17:45:00</td>\n",
       "      <td>Business</td>\n",
       "      <td>Fort Pierce</td>\n",
       "      <td>Fort Pierce</td>\n",
       "      <td>4.7</td>\n",
       "      <td>Meeting</td>\n",
       "      <td>2016-01-05</td>\n",
       "      <td>17.0</td>\n",
       "      <td>Evening</td>\n",
       "    </tr>\n",
       "    <tr>\n",
       "      <th>4</th>\n",
       "      <td>2016-01-06 14:42:00</td>\n",
       "      <td>2016-01-06 15:49:00</td>\n",
       "      <td>Business</td>\n",
       "      <td>Fort Pierce</td>\n",
       "      <td>West Palm Beach</td>\n",
       "      <td>63.7</td>\n",
       "      <td>Customer Visit</td>\n",
       "      <td>2016-01-06</td>\n",
       "      <td>14.0</td>\n",
       "      <td>Afternoon</td>\n",
       "    </tr>\n",
       "  </tbody>\n",
       "</table>\n",
       "</div>"
      ],
      "text/plain": [
       "           START_DATE            END_DATE  CATEGORY        START  \\\n",
       "0 2016-01-01 21:11:00 2016-01-01 21:17:00  Business  Fort Pierce   \n",
       "1 2016-01-02 01:25:00 2016-01-02 01:37:00  Business  Fort Pierce   \n",
       "2 2016-01-02 20:25:00 2016-01-02 20:38:00  Business  Fort Pierce   \n",
       "3 2016-01-05 17:31:00 2016-01-05 17:45:00  Business  Fort Pierce   \n",
       "4 2016-01-06 14:42:00 2016-01-06 15:49:00  Business  Fort Pierce   \n",
       "\n",
       "              STOP  MILES          PURPOSE        DATE  TIME  DAY-NIGHT  \n",
       "0      Fort Pierce    5.1   Meal/Entertain  2016-01-01  21.0      Night  \n",
       "1      Fort Pierce    5.0    Not Available  2016-01-02   1.0    Morning  \n",
       "2      Fort Pierce    4.8  Errand/Supplies  2016-01-02  20.0      Night  \n",
       "3      Fort Pierce    4.7          Meeting  2016-01-05  17.0    Evening  \n",
       "4  West Palm Beach   63.7   Customer Visit  2016-01-06  14.0  Afternoon  "
      ]
     },
     "execution_count": 136,
     "metadata": {},
     "output_type": "execute_result"
    }
   ],
   "source": [
    "df.head()"
   ]
  },
  {
   "cell_type": "code",
   "execution_count": 137,
   "id": "31657bef-5f20-406e-9a8d-f24235a98fee",
   "metadata": {},
   "outputs": [],
   "source": [
    "df.dropna(inplace=True)"
   ]
  },
  {
   "cell_type": "code",
   "execution_count": 138,
   "id": "9bf963af-00df-41ef-b1e4-a88fc6e24b40",
   "metadata": {},
   "outputs": [
    {
     "data": {
      "text/plain": [
       "(413, 10)"
      ]
     },
     "execution_count": 138,
     "metadata": {},
     "output_type": "execute_result"
    }
   ],
   "source": [
    "df.shape"
   ]
  },
  {
   "cell_type": "markdown",
   "id": "07c8d1db-93d6-45c8-bf70-775f420b012f",
   "metadata": {},
   "source": [
    "## Data Visualization"
   ]
  },
  {
   "cell_type": "markdown",
   "id": "f4e513b3-9cde-4e4f-9bf7-981c574ec96d",
   "metadata": {},
   "source": [
    "### 1. In which category do people book the most uber rides. For which purpose do people book uber rides the most."
   ]
  },
  {
   "cell_type": "code",
   "execution_count": 139,
   "id": "8fbf6005-b618-4b49-8e66-3cfaa24d2198",
   "metadata": {},
   "outputs": [
    {
     "data": {
      "text/plain": [
       "<Axes: xlabel='count', ylabel='PURPOSE'>"
      ]
     },
     "execution_count": 139,
     "metadata": {},
     "output_type": "execute_result"
    },
    {
     "data": {
      "image/png": "[encoded data removed]",
      "text/plain": [
       "<Figure size 2000x500 with 2 Axes>"
      ]
     },
     "metadata": {},
     "output_type": "display_data"
    }
   ],
   "source": [
    "plt.figure(figsize=(20,5))\n",
    "\n",
    "plt.subplot(1,2,1)\n",
    "\n",
    "sns.countplot(df['CATEGORY'])\n",
    "plt.xticks(rotation=90)\n",
    "\n",
    "plt.subplot(1,2,2)\n",
    "sns.countplot(df['PURPOSE'])"
   ]
  },
  {
   "cell_type": "markdown",
   "id": "ab8b2d07-bbe0-4970-9853-9363df5dcc0b",
   "metadata": {},
   "source": [
    "### Conclusion: The business category people book the most uber rides. The purpose of people booking uber rides is to attend the meetings."
   ]
  },
  {
   "cell_type": "markdown",
   "id": "1f090fce-a6c6-4fcc-bc61-80e6c4156601",
   "metadata": {},
   "source": [
    "###"
   ]
  },
  {
   "cell_type": "markdown",
   "id": "2cd023d6-9b8f-413a-a78e-808115f97e3a",
   "metadata": {},
   "source": [
    "### 2. At what time do people book the cabs the most from uber."
   ]
  },
  {
   "cell_type": "code",
   "execution_count": 140,
   "id": "93dd54d1-fc8a-4abb-b715-ee77fa7632c9",
   "metadata": {},
   "outputs": [
    {
     "data": {
      "text/plain": [
       "<Axes: xlabel='count', ylabel='DAY-NIGHT'>"
      ]
     },
     "execution_count": 140,
     "metadata": {},
     "output_type": "execute_result"
    },
    {
     "data": {
      "image/png": "[encoded data removed]",
      "text/plain": [
       "<Figure size 640x480 with 1 Axes>"
      ]
     },
     "metadata": {},
     "output_type": "display_data"
    }
   ],
   "source": [
    "sns.countplot(df['DAY-NIGHT'])"
   ]
  },
  {
   "cell_type": "markdown",
   "id": "d6ad542c-fdf1-4941-adcf-5b19581b4862",
   "metadata": {},
   "source": [
    "### Conclusion: People book Uber cabs the most in the afternoon."
   ]
  },
  {
   "cell_type": "markdown",
   "id": "cfe3cb16-ca65-4f9c-9313-24f561513be0",
   "metadata": {},
   "source": [
    "### "
   ]
  },
  {
   "cell_type": "markdown",
   "id": "470089d3-af3e-4138-b0ed-20f944c3a42d",
   "metadata": {},
   "source": [
    "### 3. In which months do people book uber rides less frequently."
   ]
  },
  {
   "cell_type": "code",
   "execution_count": 141,
   "id": "6fb7a88d-a3a0-4d1e-8bf0-4f352c761075",
   "metadata": {},
   "outputs": [],
   "source": [
    "df['MONTH']= pd.DatetimeIndex(df['START_DATE']).month\n",
    "\n",
    "month_label= {1.0: 'Jan', 2.0: 'Feb',3.0: 'Mar',4.0: 'Apr',5.0: 'May',6.0: 'Jun',7.0: 'Jul',\n",
    "              8.0: 'Aug',9.0: 'Sep',10.0: 'Oct',11.0: 'Nov',12.0: 'Dec'} \n",
    "\n",
    "df['MONTH']=df.MONTH.map(month_label)\n",
    "\n",
    "mon=df.MONTH.value_counts(sort=False)"
   ]
  },
  {
   "cell_type": "code",
   "execution_count": 142,
   "id": "b5f40a03-0eed-4fbd-8130-247c280fdf3c",
   "metadata": {},
   "outputs": [
    {
     "data": {
      "text/html": [
       "<div>\n",
       "<style scoped>\n",
       "    .dataframe tbody tr th:only-of-type {\n",
       "        vertical-align: middle;\n",
       "    }\n",
       "\n",
       "    .dataframe tbody tr th {\n",
       "        vertical-align: top;\n",
       "    }\n",
       "\n",
       "    .dataframe thead th {\n",
       "        text-align: right;\n",
       "    }\n",
       "</style>\n",
       "<table border=\"1\" class=\"dataframe\">\n",
       "  <thead>\n",
       "    <tr style=\"text-align: right;\">\n",
       "      <th></th>\n",
       "      <th>START_DATE</th>\n",
       "      <th>END_DATE</th>\n",
       "      <th>CATEGORY</th>\n",
       "      <th>START</th>\n",
       "      <th>STOP</th>\n",
       "      <th>MILES</th>\n",
       "      <th>PURPOSE</th>\n",
       "      <th>DATE</th>\n",
       "      <th>TIME</th>\n",
       "      <th>DAY-NIGHT</th>\n",
       "      <th>MONTH</th>\n",
       "    </tr>\n",
       "  </thead>\n",
       "  <tbody>\n",
       "    <tr>\n",
       "      <th>0</th>\n",
       "      <td>2016-01-01 21:11:00</td>\n",
       "      <td>2016-01-01 21:17:00</td>\n",
       "      <td>Business</td>\n",
       "      <td>Fort Pierce</td>\n",
       "      <td>Fort Pierce</td>\n",
       "      <td>5.1</td>\n",
       "      <td>Meal/Entertain</td>\n",
       "      <td>2016-01-01</td>\n",
       "      <td>21.0</td>\n",
       "      <td>Night</td>\n",
       "      <td>Jan</td>\n",
       "    </tr>\n",
       "    <tr>\n",
       "      <th>1</th>\n",
       "      <td>2016-01-02 01:25:00</td>\n",
       "      <td>2016-01-02 01:37:00</td>\n",
       "      <td>Business</td>\n",
       "      <td>Fort Pierce</td>\n",
       "      <td>Fort Pierce</td>\n",
       "      <td>5.0</td>\n",
       "      <td>Not Available</td>\n",
       "      <td>2016-01-02</td>\n",
       "      <td>1.0</td>\n",
       "      <td>Morning</td>\n",
       "      <td>Jan</td>\n",
       "    </tr>\n",
       "    <tr>\n",
       "      <th>2</th>\n",
       "      <td>2016-01-02 20:25:00</td>\n",
       "      <td>2016-01-02 20:38:00</td>\n",
       "      <td>Business</td>\n",
       "      <td>Fort Pierce</td>\n",
       "      <td>Fort Pierce</td>\n",
       "      <td>4.8</td>\n",
       "      <td>Errand/Supplies</td>\n",
       "      <td>2016-01-02</td>\n",
       "      <td>20.0</td>\n",
       "      <td>Night</td>\n",
       "      <td>Jan</td>\n",
       "    </tr>\n",
       "    <tr>\n",
       "      <th>3</th>\n",
       "      <td>2016-01-05 17:31:00</td>\n",
       "      <td>2016-01-05 17:45:00</td>\n",
       "      <td>Business</td>\n",
       "      <td>Fort Pierce</td>\n",
       "      <td>Fort Pierce</td>\n",
       "      <td>4.7</td>\n",
       "      <td>Meeting</td>\n",
       "      <td>2016-01-05</td>\n",
       "      <td>17.0</td>\n",
       "      <td>Evening</td>\n",
       "      <td>Jan</td>\n",
       "    </tr>\n",
       "    <tr>\n",
       "      <th>4</th>\n",
       "      <td>2016-01-06 14:42:00</td>\n",
       "      <td>2016-01-06 15:49:00</td>\n",
       "      <td>Business</td>\n",
       "      <td>Fort Pierce</td>\n",
       "      <td>West Palm Beach</td>\n",
       "      <td>63.7</td>\n",
       "      <td>Customer Visit</td>\n",
       "      <td>2016-01-06</td>\n",
       "      <td>14.0</td>\n",
       "      <td>Afternoon</td>\n",
       "      <td>Jan</td>\n",
       "    </tr>\n",
       "  </tbody>\n",
       "</table>\n",
       "</div>"
      ],
      "text/plain": [
       "           START_DATE            END_DATE  CATEGORY        START  \\\n",
       "0 2016-01-01 21:11:00 2016-01-01 21:17:00  Business  Fort Pierce   \n",
       "1 2016-01-02 01:25:00 2016-01-02 01:37:00  Business  Fort Pierce   \n",
       "2 2016-01-02 20:25:00 2016-01-02 20:38:00  Business  Fort Pierce   \n",
       "3 2016-01-05 17:31:00 2016-01-05 17:45:00  Business  Fort Pierce   \n",
       "4 2016-01-06 14:42:00 2016-01-06 15:49:00  Business  Fort Pierce   \n",
       "\n",
       "              STOP  MILES          PURPOSE        DATE  TIME  DAY-NIGHT MONTH  \n",
       "0      Fort Pierce    5.1   Meal/Entertain  2016-01-01  21.0      Night   Jan  \n",
       "1      Fort Pierce    5.0    Not Available  2016-01-02   1.0    Morning   Jan  \n",
       "2      Fort Pierce    4.8  Errand/Supplies  2016-01-02  20.0      Night   Jan  \n",
       "3      Fort Pierce    4.7          Meeting  2016-01-05  17.0    Evening   Jan  \n",
       "4  West Palm Beach   63.7   Customer Visit  2016-01-06  14.0  Afternoon   Jan  "
      ]
     },
     "execution_count": 142,
     "metadata": {},
     "output_type": "execute_result"
    }
   ],
   "source": [
    "df.head()"
   ]
  },
  {
   "cell_type": "code",
   "execution_count": 143,
   "id": "c14b6a15-98d5-40cf-8dc1-42d8829f3f7b",
   "metadata": {},
   "outputs": [
    {
     "data": {
      "text/plain": [
       "[Text(0.5, 0, 'MONTHS'), Text(0, 0.5, 'VALUE COUNT')]"
      ]
     },
     "execution_count": 143,
     "metadata": {},
     "output_type": "execute_result"
    },
    {
     "data": {
      "image/png": "[encoded data removed]",
      "text/plain": [
       "<Figure size 640x480 with 1 Axes>"
      ]
     },
     "metadata": {},
     "output_type": "display_data"
    }
   ],
   "source": [
    "data=pd.DataFrame({\n",
    "    \"MONTHS\": mon.values,\n",
    "    \"VALUE COUNNT\": df.groupby(\"MONTH\", sort=False)['MILES'].max()})\n",
    "\n",
    "p=sns.lineplot(data=data)\n",
    "p.set(xlabel=\"MONTHS\",ylabel=\"VALUE COUNT\")"
   ]
  },
  {
   "cell_type": "markdown",
   "id": "3660d172-5dc4-403b-b48b-cbc415e5371e",
   "metadata": {},
   "source": [
    "### Conclusion: Uber rides are booked less frequently in November, December, and January."
   ]
  },
  {
   "cell_type": "markdown",
   "id": "19680ae5-f106-4e59-95bf-0e53ce497ed9",
   "metadata": {},
   "source": [
    "### "
   ]
  },
  {
   "cell_type": "markdown",
   "id": "71031b63-ef1f-4b60-98f5-c5412a0ba795",
   "metadata": {},
   "source": [
    "### 4. On which days of the week do people book uber rides the most."
   ]
  },
  {
   "cell_type": "code",
   "execution_count": 144,
   "id": "3c1c4170-c867-4319-b027-5e6bd7d2a4ca",
   "metadata": {},
   "outputs": [],
   "source": [
    "df['DAY'] = df.START_DATE.dt.weekday\n",
    "\n",
    "day_label = {\n",
    "    0:\"Mon\",1:\"Tue\",2:\"Wed\",3:\"Thu\",4:\"Fri\",5:\"Sat\",6:\"Sun\"}\n",
    "\n",
    "df['DAY'] = df['DAY'].map(day_label)"
   ]
  },
  {
   "cell_type": "code",
   "execution_count": 145,
   "id": "dae0f03c-8009-4285-bc46-1f2a6b6599ff",
   "metadata": {},
   "outputs": [
    {
     "data": {
      "text/html": [
       "<div>\n",
       "<style scoped>\n",
       "    .dataframe tbody tr th:only-of-type {\n",
       "        vertical-align: middle;\n",
       "    }\n",
       "\n",
       "    .dataframe tbody tr th {\n",
       "        vertical-align: top;\n",
       "    }\n",
       "\n",
       "    .dataframe thead th {\n",
       "        text-align: right;\n",
       "    }\n",
       "</style>\n",
       "<table border=\"1\" class=\"dataframe\">\n",
       "  <thead>\n",
       "    <tr style=\"text-align: right;\">\n",
       "      <th></th>\n",
       "      <th>START_DATE</th>\n",
       "      <th>END_DATE</th>\n",
       "      <th>CATEGORY</th>\n",
       "      <th>START</th>\n",
       "      <th>STOP</th>\n",
       "      <th>MILES</th>\n",
       "      <th>PURPOSE</th>\n",
       "      <th>DATE</th>\n",
       "      <th>TIME</th>\n",
       "      <th>DAY-NIGHT</th>\n",
       "      <th>MONTH</th>\n",
       "      <th>DAY</th>\n",
       "    </tr>\n",
       "  </thead>\n",
       "  <tbody>\n",
       "    <tr>\n",
       "      <th>0</th>\n",
       "      <td>2016-01-01 21:11:00</td>\n",
       "      <td>2016-01-01 21:17:00</td>\n",
       "      <td>Business</td>\n",
       "      <td>Fort Pierce</td>\n",
       "      <td>Fort Pierce</td>\n",
       "      <td>5.1</td>\n",
       "      <td>Meal/Entertain</td>\n",
       "      <td>2016-01-01</td>\n",
       "      <td>21.0</td>\n",
       "      <td>Night</td>\n",
       "      <td>Jan</td>\n",
       "      <td>Fri</td>\n",
       "    </tr>\n",
       "    <tr>\n",
       "      <th>1</th>\n",
       "      <td>2016-01-02 01:25:00</td>\n",
       "      <td>2016-01-02 01:37:00</td>\n",
       "      <td>Business</td>\n",
       "      <td>Fort Pierce</td>\n",
       "      <td>Fort Pierce</td>\n",
       "      <td>5.0</td>\n",
       "      <td>Not Available</td>\n",
       "      <td>2016-01-02</td>\n",
       "      <td>1.0</td>\n",
       "      <td>Morning</td>\n",
       "      <td>Jan</td>\n",
       "      <td>Sat</td>\n",
       "    </tr>\n",
       "    <tr>\n",
       "      <th>2</th>\n",
       "      <td>2016-01-02 20:25:00</td>\n",
       "      <td>2016-01-02 20:38:00</td>\n",
       "      <td>Business</td>\n",
       "      <td>Fort Pierce</td>\n",
       "      <td>Fort Pierce</td>\n",
       "      <td>4.8</td>\n",
       "      <td>Errand/Supplies</td>\n",
       "      <td>2016-01-02</td>\n",
       "      <td>20.0</td>\n",
       "      <td>Night</td>\n",
       "      <td>Jan</td>\n",
       "      <td>Sat</td>\n",
       "    </tr>\n",
       "    <tr>\n",
       "      <th>3</th>\n",
       "      <td>2016-01-05 17:31:00</td>\n",
       "      <td>2016-01-05 17:45:00</td>\n",
       "      <td>Business</td>\n",
       "      <td>Fort Pierce</td>\n",
       "      <td>Fort Pierce</td>\n",
       "      <td>4.7</td>\n",
       "      <td>Meeting</td>\n",
       "      <td>2016-01-05</td>\n",
       "      <td>17.0</td>\n",
       "      <td>Evening</td>\n",
       "      <td>Jan</td>\n",
       "      <td>Tue</td>\n",
       "    </tr>\n",
       "    <tr>\n",
       "      <th>4</th>\n",
       "      <td>2016-01-06 14:42:00</td>\n",
       "      <td>2016-01-06 15:49:00</td>\n",
       "      <td>Business</td>\n",
       "      <td>Fort Pierce</td>\n",
       "      <td>West Palm Beach</td>\n",
       "      <td>63.7</td>\n",
       "      <td>Customer Visit</td>\n",
       "      <td>2016-01-06</td>\n",
       "      <td>14.0</td>\n",
       "      <td>Afternoon</td>\n",
       "      <td>Jan</td>\n",
       "      <td>Wed</td>\n",
       "    </tr>\n",
       "  </tbody>\n",
       "</table>\n",
       "</div>"
      ],
      "text/plain": [
       "           START_DATE            END_DATE  CATEGORY        START  \\\n",
       "0 2016-01-01 21:11:00 2016-01-01 21:17:00  Business  Fort Pierce   \n",
       "1 2016-01-02 01:25:00 2016-01-02 01:37:00  Business  Fort Pierce   \n",
       "2 2016-01-02 20:25:00 2016-01-02 20:38:00  Business  Fort Pierce   \n",
       "3 2016-01-05 17:31:00 2016-01-05 17:45:00  Business  Fort Pierce   \n",
       "4 2016-01-06 14:42:00 2016-01-06 15:49:00  Business  Fort Pierce   \n",
       "\n",
       "              STOP  MILES          PURPOSE        DATE  TIME  DAY-NIGHT MONTH  \\\n",
       "0      Fort Pierce    5.1   Meal/Entertain  2016-01-01  21.0      Night   Jan   \n",
       "1      Fort Pierce    5.0    Not Available  2016-01-02   1.0    Morning   Jan   \n",
       "2      Fort Pierce    4.8  Errand/Supplies  2016-01-02  20.0      Night   Jan   \n",
       "3      Fort Pierce    4.7          Meeting  2016-01-05  17.0    Evening   Jan   \n",
       "4  West Palm Beach   63.7   Customer Visit  2016-01-06  14.0  Afternoon   Jan   \n",
       "\n",
       "   DAY  \n",
       "0  Fri  \n",
       "1  Sat  \n",
       "2  Sat  \n",
       "3  Tue  \n",
       "4  Wed  "
      ]
     },
     "execution_count": 145,
     "metadata": {},
     "output_type": "execute_result"
    }
   ],
   "source": [
    "df.head()"
   ]
  },
  {
   "cell_type": "code",
   "execution_count": 146,
   "id": "b4e7b083-e5ca-44b3-be58-be22be62c554",
   "metadata": {},
   "outputs": [
    {
     "data": {
      "text/plain": [
       "Text(0, 0.5, 'Count')"
      ]
     },
     "execution_count": 146,
     "metadata": {},
     "output_type": "execute_result"
    },
    {
     "data": {
      "image/png": "[encoded data removed]",
      "text/plain": [
       "<Figure size 640x480 with 1 Axes>"
      ]
     },
     "metadata": {},
     "output_type": "display_data"
    }
   ],
   "source": [
    "day_label= df.DAY.value_counts()\n",
    "\n",
    "sns.barplot(x=day_label.index, y=day_label)\n",
    "plt.xlabel(\"Day\")\n",
    "plt.ylabel(\"Count\")"
   ]
  },
  {
   "cell_type": "markdown",
   "id": "d02e3762-1ca0-45e6-9028-a63a46faedbb",
   "metadata": {},
   "source": [
    "### Conclusion: People book Uber rides the most on Friday, Thursday, and Monday."
   ]
  },
  {
   "cell_type": "markdown",
   "id": "81b3c0bd-970e-4e71-b217-82e52e18e057",
   "metadata": {},
   "source": [
    "### "
   ]
  },
  {
   "cell_type": "markdown",
   "id": "ae3aac6f-4144-4e09-b3cd-e9a50732e94e",
   "metadata": {},
   "source": [
    "### 5. How many miles do people usually book a cab for through uber."
   ]
  },
  {
   "cell_type": "code",
   "execution_count": 147,
   "id": "e19ba681-f487-4d21-b581-4daaf7cf1000",
   "metadata": {},
   "outputs": [
    {
     "data": {
      "text/plain": [
       "<Axes: ylabel='MILES'>"
      ]
     },
     "execution_count": 147,
     "metadata": {},
     "output_type": "execute_result"
    },
    {
     "data": {
      "image/png": "[encoded data removed]",
      "text/plain": [
       "<Figure size 640x480 with 1 Axes>"
      ]
     },
     "metadata": {},
     "output_type": "display_data"
    }
   ],
   "source": [
    "sns.boxplot(df['MILES'])"
   ]
  },
  {
   "cell_type": "code",
   "execution_count": 148,
   "id": "3f1c288a-18f1-40b0-be13-bfeece699c70",
   "metadata": {},
   "outputs": [
    {
     "data": {
      "text/plain": [
       "<Axes: ylabel='MILES'>"
      ]
     },
     "execution_count": 148,
     "metadata": {},
     "output_type": "execute_result"
    },
    {
     "data": {
      "image/png": "[encoded data removed]",
      "text/plain": [
       "<Figure size 640x480 with 1 Axes>"
      ]
     },
     "metadata": {},
     "output_type": "display_data"
    }
   ],
   "source": [
    "sns.boxplot(df[df['MILES']<100]['MILES'])"
   ]
  },
  {
   "cell_type": "code",
   "execution_count": 149,
   "id": "e13affca-c876-4ed9-9814-98b128f93406",
   "metadata": {},
   "outputs": [
    {
     "data": {
      "text/plain": [
       "<Axes: xlabel='MILES', ylabel='Density'>"
      ]
     },
     "execution_count": 149,
     "metadata": {},
     "output_type": "execute_result"
    },
    {
     "data": {
      "image/png": "[encoded data removed]",
      "text/plain": [
       "<Figure size 640x480 with 1 Axes>"
      ]
     },
     "metadata": {},
     "output_type": "display_data"
    }
   ],
   "source": [
    "sns.distplot(df[df['MILES']<40]['MILES'])"
   ]
  },
  {
   "cell_type": "markdown",
   "id": "fd0e754d-703f-449e-80c4-dee43effa1ba",
   "metadata": {},
   "source": [
    "### Conclusion: People usually book Uber rides for 0-10 miles."
   ]
  }
 ],
 "metadata": {
  "kernelspec": {
   "display_name": "Python 3 (ipykernel)",
   "language": "python",
   "name": "python3"
  },
  "language_info": {
   "codemirror_mode": {
    "name": "ipython",
    "version": 3
   },
   "file_extension": ".py",
   "mimetype": "text/x-python",
   "name": "python",
   "nbconvert_exporter": "python",
   "pygments_lexer": "ipython3",
   "version": "3.12.2"
  }
 },
 "nbformat": 4,
 "nbformat_minor": 5
}
